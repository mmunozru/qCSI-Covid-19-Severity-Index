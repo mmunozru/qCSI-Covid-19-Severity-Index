{
 "cells": [
  {
   "cell_type": "markdown",
   "metadata": {},
   "source": [
    "#### Goal of Script: Calculate qCSI COVID-19 Severity Index\n",
    "\n",
    "The function qcsi calculates the quick COVID-19 Severity Index (https://www.mdcalc.com/quick-covid-19-severity-index-qcsi#evidence). The score is calculated based on a patient physiological values (respiratory rate, pulse oximetry, and O2 flow rate). \n",
    "\n",
    "As an example, a qSCI score of <= 3 indicates the patient is at low risk and has a 4% change of a crictial respiratory illness within 24 hours of being admitted into the ED due to Covid. A qsCI score of 10-12 indicates the patient is at high risk and has a 57% change of a critical respiratory illness with 24 hours of being admitted into the ED due to Covid. "
   ]
  },
  {
   "cell_type": "markdown",
   "metadata": {},
   "source": [
    "#### Step 1: Define Assumptions\n",
    "\n",
    "I will assume a specific range of values for respiratory rate, pulse oximetry, and 02 flow rate are invalid.  \n",
    "\n",
    "* If `respiratory_rate <= 0` then return _invalid respiratory rate_\n",
    "* If `pulse_ox <= 0` then return _invalid pulse ox_\n",
    "* If `pulse_ox > 100` then return _invalid pulse ox_\n",
    "* If `os_flow <= 0` then return _invalid O2 flow rate_"
   ]
  },
  {
   "cell_type": "markdown",
   "metadata": {},
   "source": [
    "#### Step 2: Create the qcsi function  \n",
    "\n",
    "The function returns the risk level of the patient based on specific values of the respiratory rate, pulse oximetry, and O2 flow rate (inputted by the user). \n"
   ]
  },
  {
   "cell_type": "code",
   "execution_count": 1,
   "metadata": {},
   "outputs": [],
   "source": [
    "def qcsi(respiratory_rate, pulse_ox, o2_flow):\n",
    "    \"\"\"(int, int, int) -> str\n",
    "    * respiratory_rate is an integer value\n",
    "    * pulse_ox is an integer value (e.g. 30 means 30%)\n",
    "    * o2_flow is an integer value\n",
    "    \"\"\"\n",
    "    \n",
    "    ### BEGIN SOLUTION\n",
    "    \n",
    "    risk = 'unknown'\n",
    "    \n",
    "    #check if values are not valid\n",
    "    if (respiratory_rate <= 0):\n",
    "        risk = 'invalid respiratory rate'\n",
    "    elif (pulse_ox <= 0 or pulse_ox > 100):\n",
    "        risk = 'invalid pulse ox'\n",
    "    elif (o2_flow <= 0):\n",
    "        risk = 'invalid O2 flow rate'\n",
    "        \n",
    "    #if values are valid\n",
    "    else:\n",
    "        risk_score = 0\n",
    "        \n",
    "        if respiratory_rate <= 22:\n",
    "            risk_score += 0\n",
    "        elif (respiratory_rate >= 23) and (respiratory_rate <= 28):\n",
    "            risk_score += 1\n",
    "        else: \n",
    "            risk_score += 2\n",
    "\n",
    "        if pulse_ox <= 88:\n",
    "            risk_score += 5\n",
    "        elif (pulse_ox >= 89) and (pulse_ox <= 92):\n",
    "            risk_score += 2\n",
    "        else:\n",
    "            risk_score += 0\n",
    "\n",
    "        if o2_flow <= 2:\n",
    "            risk_score += 0\n",
    "        elif (o2_flow >= 3) and (o2_flow <= 4):\n",
    "            risk_score += 4\n",
    "        else:\n",
    "            risk_score += 5\n",
    "        \n",
    "        # determine risk once total risk score is calculated\n",
    "        if risk_score <= 3:\n",
    "            risk = 'low'\n",
    "        elif (risk_score >= 4) and (risk_score <= 6):\n",
    "            risk = 'low-intermediate'\n",
    "        elif (risk_score >= 7) and (risk_score <= 9):\n",
    "            risk = 'high-intermediate'\n",
    "        else:\n",
    "            risk = 'high'\n",
    "        \n",
    "        \n",
    "    ### END SOLUTION\n",
    "    \n",
    "    return risk"
   ]
  },
  {
   "cell_type": "markdown",
   "metadata": {},
   "source": [
    "#### Step 4: Verify risk level\n",
    "\n",
    "Go to https://www.mdcalc.com/quick-covid-19-severity-index-qcsi#evidence and select various values for the respiratory rate, pulse oximetry, and O2 flow rate to get the same risk level as the function. "
   ]
  },
  {
   "cell_type": "code",
   "execution_count": 2,
   "metadata": {},
   "outputs": [],
   "source": [
    "assert (qcsi(29, 95, 1) == 'low')\n",
    "assert (qcsi(20, 93, 1) == 'low')\n",
    "assert (qcsi(29, 88, 1) == 'high-intermediate')\n",
    "assert (qcsi(29, 88, 4) == 'high')\n",
    "assert (qcsi(30, 90, 1) == 'low-intermediate')\n",
    "assert (qcsi(28, 92, -1) == 'invalid O2 flow rate')\n",
    "assert (qcsi(22, 0, 4) == 'invalid pulse ox')\n",
    "assert (qcsi(0, 97, 2) == 'invalid respiratory rate')"
   ]
  },
  {
   "cell_type": "markdown",
   "metadata": {},
   "source": [
    "#### Final Product: A function with three inputs (respiratory rate, pulse oximetry, and O2 flow rate)\n",
    "\n",
    "The user inputs values for respiratory rate, pulse oximetry, and O2 flow rate in that order. Input different values to see how the qSCI risk level changes. "
   ]
  },
  {
   "cell_type": "code",
   "execution_count": 3,
   "metadata": {},
   "outputs": [
    {
     "data": {
      "text/plain": [
       "'invalid O2 flow rate'"
      ]
     },
     "execution_count": 3,
     "metadata": {},
     "output_type": "execute_result"
    }
   ],
   "source": [
    "qcsi(29, 88, 0)"
   ]
  },
  {
   "cell_type": "markdown",
   "metadata": {},
   "source": [
    "---"
   ]
  }
 ],
 "metadata": {
  "celltoolbar": "Create Assignment",
  "kernelspec": {
   "display_name": "Python 3",
   "language": "python",
   "name": "python3"
  },
  "language_info": {
   "codemirror_mode": {
    "name": "ipython",
    "version": 3
   },
   "file_extension": ".py",
   "mimetype": "text/x-python",
   "name": "python",
   "nbconvert_exporter": "python",
   "pygments_lexer": "ipython3",
   "version": "3.7.3"
  }
 },
 "nbformat": 4,
 "nbformat_minor": 2
}
